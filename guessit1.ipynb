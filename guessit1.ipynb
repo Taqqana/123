{
 "cells": [
  {
   "cell_type": "code",
   "execution_count": 1,
   "metadata": {},
   "outputs": [
    {
     "name": "stderr",
     "output_type": "stream",
     "text": [
      "d:\\Users\\Rejhan Kundakovic\\Anaconda3\\lib\\site-packages\\ipykernel\\parentpoller.py:116: UserWarning: Parent poll failed.  If the frontend dies,\n",
      "                the kernel may be left running.  Please let us know\n",
      "                about your system (bitness, Python, etc.) at\n",
      "                ipython-dev@scipy.org\n",
      "  ipython-dev@scipy.org\"\"\")\n"
     ]
    },
    {
     "name": "stdout",
     "output_type": "stream",
     "text": [
      "Welcome to GUESS IT!\n",
      "I will be thinking of a number between 1 to 100\n",
      "If your guess is within 10 of my number, I'll tell you you're WARM\n",
      "If your guess is farther than your most recent guess, I'll say you're getting COLDER\n",
      "If your guess is closer than your most recent guess, I'll say you're getting WARMER\n",
      "I hope you are ready, LETS START ! :)) \n"
     ]
    },
    {
     "name": "stdin",
     "output_type": "stream",
     "text": [
      "Hmmm... Im thinking of a number between 1 and 100. \n",
      " What is your guess? :P  25\n"
     ]
    },
    {
     "name": "stdout",
     "output_type": "stream",
     "text": [
      "COLD!\n"
     ]
    },
    {
     "name": "stdin",
     "output_type": "stream",
     "text": [
      "Hmmm... Im thinking of a number between 1 and 100. \n",
      " What is your guess? :P  35\n"
     ]
    },
    {
     "name": "stdout",
     "output_type": "stream",
     "text": [
      "WARMER!\n"
     ]
    },
    {
     "name": "stdin",
     "output_type": "stream",
     "text": [
      "Hmmm... Im thinking of a number between 1 and 100. \n",
      " What is your guess? :P  34\n"
     ]
    },
    {
     "name": "stdout",
     "output_type": "stream",
     "text": [
      "COLDER!\n"
     ]
    },
    {
     "name": "stdin",
     "output_type": "stream",
     "text": [
      "Hmmm... Im thinking of a number between 1 and 100. \n",
      " What is your guess? :P  36\n"
     ]
    },
    {
     "name": "stdout",
     "output_type": "stream",
     "text": [
      "WARMER!\n"
     ]
    },
    {
     "name": "stdin",
     "output_type": "stream",
     "text": [
      "Hmmm... Im thinking of a number between 1 and 100. \n",
      " What is your guess? :P  40\n"
     ]
    },
    {
     "name": "stdout",
     "output_type": "stream",
     "text": [
      "WARMER!\n"
     ]
    },
    {
     "name": "stdin",
     "output_type": "stream",
     "text": [
      "Hmmm... Im thinking of a number between 1 and 100. \n",
      " What is your guess? :P  50\n"
     ]
    },
    {
     "name": "stdout",
     "output_type": "stream",
     "text": [
      "WARMER!\n"
     ]
    },
    {
     "name": "stdin",
     "output_type": "stream",
     "text": [
      "Hmmm... Im thinking of a number between 1 and 100. \n",
      " What is your guess? :P  60\n"
     ]
    },
    {
     "name": "stdout",
     "output_type": "stream",
     "text": [
      "WARMER!\n"
     ]
    },
    {
     "name": "stdin",
     "output_type": "stream",
     "text": [
      "Hmmm... Im thinking of a number between 1 and 100. \n",
      " What is your guess? :P  70\n"
     ]
    },
    {
     "name": "stdout",
     "output_type": "stream",
     "text": [
      "WARMER!\n"
     ]
    },
    {
     "name": "stdin",
     "output_type": "stream",
     "text": [
      "Hmmm... Im thinking of a number between 1 and 100. \n",
      " What is your guess? :P  80\n"
     ]
    },
    {
     "name": "stdout",
     "output_type": "stream",
     "text": [
      "WARMER!\n"
     ]
    },
    {
     "name": "stdin",
     "output_type": "stream",
     "text": [
      "Hmmm... Im thinking of a number between 1 and 100. \n",
      " What is your guess? :P  90\n"
     ]
    },
    {
     "name": "stdout",
     "output_type": "stream",
     "text": [
      "COLDER!\n"
     ]
    },
    {
     "name": "stdin",
     "output_type": "stream",
     "text": [
      "Hmmm... Im thinking of a number between 1 and 100. \n",
      " What is your guess? :P  88\n"
     ]
    },
    {
     "name": "stdout",
     "output_type": "stream",
     "text": [
      "WARMER!\n"
     ]
    },
    {
     "name": "stdin",
     "output_type": "stream",
     "text": [
      "Hmmm... Im thinking of a number between 1 and 100. \n",
      " What is your guess? :P  86\n"
     ]
    },
    {
     "name": "stdout",
     "output_type": "stream",
     "text": [
      "WARMER!\n"
     ]
    },
    {
     "name": "stdin",
     "output_type": "stream",
     "text": [
      "Hmmm... Im thinking of a number between 1 and 100. \n",
      " What is your guess? :P  85\n"
     ]
    },
    {
     "name": "stdout",
     "output_type": "stream",
     "text": [
      "WARMER!\n"
     ]
    },
    {
     "name": "stdin",
     "output_type": "stream",
     "text": [
      "Hmmm... Im thinking of a number between 1 and 100. \n",
      " What is your guess? :P  84\n"
     ]
    },
    {
     "name": "stdout",
     "output_type": "stream",
     "text": [
      "WARMER!\n"
     ]
    },
    {
     "name": "stdin",
     "output_type": "stream",
     "text": [
      "Hmmm... Im thinking of a number between 1 and 100. \n",
      " What is your guess? :P  83\n"
     ]
    },
    {
     "name": "stdout",
     "output_type": "stream",
     "text": [
      "WARMER!\n"
     ]
    },
    {
     "name": "stdin",
     "output_type": "stream",
     "text": [
      "Hmmm... Im thinking of a number between 1 and 100. \n",
      " What is your guess? :P  82\n"
     ]
    },
    {
     "name": "stdout",
     "output_type": "stream",
     "text": [
      "Congrats! You guessed it in only 16 guesses! Ahh you mfking genious!\n"
     ]
    }
   ],
   "source": [
    "import random\n",
    "\n",
    "num = random.randint (1,100)\n",
    "\n",
    "print (\"Welcome to GUESS IT!\")\n",
    "print (\"I will be thinking of a number between 1 to 100\")\n",
    "print (\"If your guess is within 10 of my number, I'll tell you you're WARM\")\n",
    "print (\"If your guess is farther than your most recent guess, I'll say you're getting COLDER\")\n",
    "print (\"If your guess is closer than your most recent guess, I'll say you're getting WARMER\")\n",
    "print (\"I hope you are ready, LETS START ! :)) \")\n",
    "\n",
    "guesses = [0]\n",
    "\n",
    "while True:\n",
    "    \n",
    "    guess = int(input(\"Hmmm... Im thinking of a number between 1 and 100. \\n What is your guess? :P \"))\n",
    "    \n",
    "    if guess < 1 or guess > 100:\n",
    "        print(\"Out of bounds boi, i tought i said between 1 and 100. TRY AGAIN:\")\n",
    "        continue\n",
    "        \n",
    "    if guess==num:\n",
    "        print(f\"Congrats! You guessed it in only {len(guesses)} guesses! Ahh you mfking genious!\")\n",
    "        break\n",
    "        \n",
    "    guesses.append(guess)\n",
    "    \n",
    "    if guesses[-2]:\n",
    "        if abs(num-guess) < abs(num-guesses[-2]):\n",
    "            print('WARMER!')\n",
    "        else:\n",
    "            print('COLDER!')\n",
    "            \n",
    "    else:\n",
    "        if abs(num-guess) <= 10:\n",
    "            print('WARM!')\n",
    "        else:\n",
    "            print('COLD!')"
   ]
  },
  {
   "cell_type": "code",
   "execution_count": null,
   "metadata": {},
   "outputs": [],
   "source": []
  }
 ],
 "metadata": {
  "kernelspec": {
   "display_name": "Python 3",
   "language": "python",
   "name": "python3"
  },
  "language_info": {
   "codemirror_mode": {
    "name": "ipython",
    "version": 3
   },
   "file_extension": ".py",
   "mimetype": "text/x-python",
   "name": "python",
   "nbconvert_exporter": "python",
   "pygments_lexer": "ipython3",
   "version": "3.7.0"
  }
 },
 "nbformat": 4,
 "nbformat_minor": 2
}
